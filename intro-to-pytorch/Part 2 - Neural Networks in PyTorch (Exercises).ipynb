{
 "cells": [
  {
   "cell_type": "markdown",
   "metadata": {},
   "source": [
    "# Neural networks with PyTorch\n",
    "\n",
    "Deep learning networks tend to be massive with dozens or hundreds of layers, that's where the term \"deep\" comes from. You can build one of these deep networks using only weight matrices as we did in the previous notebook, but in general it's very cumbersome and difficult to implement. PyTorch has a nice module `nn` that provides a nice way to efficiently build large neural networks."
   ]
  },
  {
   "cell_type": "code",
   "execution_count": 3,
   "metadata": {},
   "outputs": [],
   "source": [
    "# Import necessary packages\n",
    "\n",
    "%matplotlib inline\n",
    "%config InlineBackend.figure_format = 'retina'\n",
    "\n",
    "import numpy as np\n",
    "import torch\n",
    "\n",
    "import helper\n",
    "\n",
    "import matplotlib.pyplot as plt"
   ]
  },
  {
   "cell_type": "markdown",
   "metadata": {},
   "source": [
    "\n",
    "Now we're going to build a larger network that can solve a (formerly) difficult problem, identifying text in an image. Here we'll use the MNIST dataset which consists of greyscale handwritten digits. Each image is 28x28 pixels, you can see a sample below\n",
    "\n",
    "<img src='assets/mnist.png'>\n",
    "\n",
    "Our goal is to build a neural network that can take one of these images and predict the digit in the image.\n",
    "\n",
    "First up, we need to get our dataset. This is provided through the `torchvision` package. The code below will download the MNIST dataset, then create training and test datasets for us. Don't worry too much about the details here, you'll learn more about this later."
   ]
  },
  {
   "cell_type": "code",
   "execution_count": 5,
   "metadata": {},
   "outputs": [],
   "source": [
    "### Run this cell\n",
    "\n",
    "from torchvision import datasets, transforms\n",
    "\n",
    "# Define a transform to normalize the data\n",
    "transform = transforms.Compose([transforms.ToTensor(),\n",
    "                              transforms.Normalize((0.5,), (0.5,)),\n",
    "                              ])\n",
    "\n",
    "# Download and load the training data\n",
    "trainset = datasets.MNIST('~/.pytorch/MNIST_data/', download=True, train=True, transform=transform)\n",
    "trainloader = torch.utils.data.DataLoader(trainset, batch_size=64, shuffle=True)"
   ]
  },
  {
   "cell_type": "markdown",
   "metadata": {},
   "source": [
    "We have the training data loaded into `trainloader` and we make that an iterator with `iter(trainloader)`. Later, we'll use this to loop through the dataset for training, like\n",
    "\n",
    "```python\n",
    "for image, label in trainloader:\n",
    "    ## do things with images and labels\n",
    "```\n",
    "\n",
    "You'll notice I created the `trainloader` with a batch size of 64, and `shuffle=True`. The batch size is the number of images we get in one iteration from the data loader and pass through our network, often called a *batch*. And `shuffle=True` tells it to shuffle the dataset every time we start going through the data loader again. But here I'm just grabbing the first batch so we can check out the data. We can see below that `images` is just a tensor with size `(64, 1, 28, 28)`. So, 64 images per batch, 1 color channel, and 28x28 images."
   ]
  },
  {
   "cell_type": "code",
   "execution_count": 6,
   "metadata": {},
   "outputs": [
    {
     "name": "stdout",
     "output_type": "stream",
     "text": [
      "<class 'torch.Tensor'>\n",
      "torch.Size([64, 1, 28, 28])\n",
      "torch.Size([64])\n"
     ]
    }
   ],
   "source": [
    "dataiter = iter(trainloader)\n",
    "images, labels = dataiter.next()\n",
    "print(type(images))\n",
    "print(images.shape)\n",
    "print(labels.shape)"
   ]
  },
  {
   "cell_type": "markdown",
   "metadata": {},
   "source": [
    "This is what one of the images looks like. "
   ]
  },
  {
   "cell_type": "code",
   "execution_count": 7,
   "metadata": {},
   "outputs": [
    {
     "data": {
      "image/png": "[encoded data removed]",
      "text/plain": [
       "<Figure size 432x288 with 1 Axes>"
      ]
     },
     "metadata": {
      "image/png": {
       "height": 250,
       "width": 253
      },
      "needs_background": "light"
     },
     "output_type": "display_data"
    }
   ],
   "source": [
    "plt.imshow(images[1].numpy().squeeze(), cmap='Greys_r');"
   ]
  },
  {
   "cell_type": "markdown",
   "metadata": {},
   "source": [
    "First, let's try to build a simple network for this dataset using weight matrices and matrix multiplications. Then, we'll see how to do it using PyTorch's `nn` module which provides a much more convenient and powerful method for defining network architectures.\n",
    "\n",
    "The networks you've seen so far are called *fully-connected* or *dense* networks. Each unit in one layer is connected to each unit in the next layer. In fully-connected networks, the input to each layer must be a one-dimensional vector (which can be stacked into a 2D tensor as a batch of multiple examples). However, our images are 28x28 2D tensors, so we need to convert them into 1D vectors. Thinking about sizes, we need to convert the batch of images with shape `(64, 1, 28, 28)` to a have a shape of `(64, 784)`, 784 is 28 times 28. This is typically called *flattening*, we flattened the 2D images into 1D vectors.\n",
    "\n",
    "Previously you built a network with one output unit. Here we need 10 output units, one for each digit. We want our network to predict the digit shown in an image, so what we'll do is calculate probabilities that the image is of any one digit or class. This ends up being a discrete probability distribution over the classes (digits) that tells us the most likely class for the image. That means we need 10 output units for the 10 classes (digits). We'll see how to convert the network output into a probability distribution next.\n",
    "\n",
    "> **Exercise:** Flatten the batch of images `images`. Then build a multi-layer network with 784 input units, 256 hidden units, and 10 output units using random tensors for the weights and biases. For now, use a sigmoid activation for the hidden layer. Leave the output layer without an activation, we'll add one that gives us a probability distribution next."
   ]
  },
  {
   "cell_type": "code",
   "execution_count": 8,
   "metadata": {},
   "outputs": [
    {
     "data": {
      "text/plain": [
       "torch.Size([64, 10])"
      ]
     },
     "execution_count": 8,
     "metadata": {},
     "output_type": "execute_result"
    }
   ],
   "source": [
    "## Your solution\n",
    "def activation(x):\n",
    "    return 1/(1+torch.exp(-x))\n",
    "# weights\n",
    "W1 = torch.randn(784, 256)\n",
    "W2 = torch.randn(256, 10)\n",
    "# bias\n",
    "B1 = torch.randn(256)\n",
    "B2 = torch.randn(10)\n",
    "\n",
    "inputs = (images.view(images.shape[0], -1))\n",
    "h = activation(torch.mm(inputs, W1) + B1)\n",
    "out = torch.mm(h, W2) + B2# output of your network, should have shape (64,10)\n",
    "out.shape"
   ]
  },
  {
   "cell_type": "markdown",
   "metadata": {},
   "source": [
    "Now we have 10 outputs for our network. We want to pass in an image to our network and get out a probability distribution over the classes that tells us the likely class(es) the image belongs to. Something that looks like this:\n",
    "<img src='assets/image_distribution.png' width=500px>\n",
    "\n",
    "Here we see that the probability for each class is roughly the same. This is representing an untrained network, it hasn't seen any data yet so it just returns a uniform distribution with equal probabilities for each class.\n",
    "\n",
    "To calculate this probability distribution, we often use the [**softmax** function](https://en.wikipedia.org/wiki/Softmax_function). Mathematically this looks like\n",
    "\n",
    "$$\n",
    "\\Large \\sigma(x_i) = \\cfrac{e^{x_i}}{\\sum_k^K{e^{x_k}}}\n",
    "$$\n",
    "\n",
    "What this does is squish each input $x_i$ between 0 and 1 and normalizes the values to give you a proper probability distribution where the probabilites sum up to one.\n",
    "\n",
    "> **Exercise:** Implement a function `softmax` that performs the softmax calculation and returns probability distributions for each example in the batch. Note that you'll need to pay attention to the shapes when doing this. If you have a tensor `a` with shape `(64, 10)` and a tensor `b` with shape `(64,)`, doing `a/b` will give you an error because PyTorch will try to do the division across the columns (called broadcasting) but you'll get a size mismatch. The way to think about this is for each of the 64 examples, you only want to divide by one value, the sum in the denominator. So you need `b` to have a shape of `(64, 1)`. This way PyTorch will divide the 10 values in each row of `a` by the one value in each row of `b`. Pay attention to how you take the sum as well. You'll need to define the `dim` keyword in `torch.sum`. Setting `dim=0` takes the sum across the rows while `dim=1` takes the sum across the columns."
   ]
  },
  {
   "cell_type": "code",
   "execution_count": 9,
   "metadata": {},
   "outputs": [
    {
     "name": "stdout",
     "output_type": "stream",
     "text": [
      "tensor([[2.4483e-01, 4.8260e-01, 2.5818e-09, 1.2705e-06, 1.5687e-10, 1.6135e-05,\n",
      "         1.1289e-01, 5.0258e-03, 1.5460e-01, 3.6964e-05],\n",
      "        [1.6015e-06, 5.2188e-14, 2.3427e-06, 2.6151e-12, 3.6628e-18, 3.6249e-06,\n",
      "         2.7560e-05, 1.1843e-12, 9.9996e-01, 9.6421e-11],\n",
      "        [5.1293e-08, 5.5377e-13, 1.4259e-17, 1.7819e-08, 1.9578e-15, 5.4452e-06,\n",
      "         2.5992e-11, 6.7393e-11, 9.9999e-01, 2.4687e-13],\n",
      "        [2.4128e-03, 6.6322e-06, 1.1502e-10, 4.1295e-08, 1.0372e-15, 3.9170e-07,\n",
      "         6.0731e-04, 2.3821e-07, 9.9693e-01, 4.6315e-05],\n",
      "        [1.4819e-09, 1.0986e-18, 4.0513e-12, 4.0930e-14, 2.9596e-20, 8.2774e-11,\n",
      "         1.4535e-10, 2.7726e-08, 1.0000e+00, 3.3067e-13],\n",
      "        [1.4746e-08, 9.0251e-10, 3.5895e-13, 2.2898e-14, 3.8718e-16, 1.5461e-12,\n",
      "         2.2164e-06, 6.2175e-10, 1.0000e+00, 3.1097e-11],\n",
      "        [8.9527e-01, 6.7745e-08, 1.8237e-06, 5.7942e-10, 5.9290e-13, 1.9938e-05,\n",
      "         6.8549e-03, 1.1836e-09, 9.7816e-02, 3.9879e-05],\n",
      "        [1.6194e-04, 1.5791e-09, 9.9910e-13, 2.7671e-14, 1.4514e-18, 2.5868e-10,\n",
      "         3.6514e-06, 3.0378e-14, 9.9983e-01, 2.4960e-14],\n",
      "        [9.9881e-01, 1.9518e-07, 4.1350e-06, 1.9015e-13, 8.4698e-17, 2.5271e-08,\n",
      "         3.3511e-04, 3.0350e-08, 8.3199e-04, 1.5570e-05],\n",
      "        [3.1082e-05, 6.8667e-09, 8.0837e-13, 5.1895e-14, 2.1375e-18, 3.8923e-11,\n",
      "         1.9129e-02, 1.9386e-10, 9.8084e-01, 1.2196e-09],\n",
      "        [1.4416e-01, 9.7920e-12, 1.5589e-06, 3.3009e-14, 2.3683e-13, 4.1668e-01,\n",
      "         2.7027e-05, 1.1574e-05, 4.3913e-01, 3.8343e-10],\n",
      "        [3.5845e-07, 1.0471e-06, 6.7291e-13, 4.5435e-11, 2.9614e-18, 4.2526e-10,\n",
      "         5.5637e-09, 1.9030e-10, 1.0000e+00, 3.8772e-11],\n",
      "        [3.5527e-09, 7.0602e-07, 1.9428e-06, 9.5351e-06, 5.2585e-14, 1.9937e-06,\n",
      "         3.9705e-04, 9.5499e-08, 9.9959e-01, 1.5527e-07],\n",
      "        [9.1507e-06, 2.0204e-09, 6.8298e-11, 7.3156e-15, 5.3129e-18, 4.7495e-06,\n",
      "         3.2242e-07, 6.7303e-15, 9.9999e-01, 1.9548e-09],\n",
      "        [6.3201e-08, 1.0805e-08, 2.1333e-11, 1.0326e-11, 2.9088e-17, 6.7225e-08,\n",
      "         1.4437e-11, 2.1923e-08, 1.0000e+00, 1.0749e-10],\n",
      "        [6.6586e-02, 9.4805e-04, 1.3053e-02, 4.6785e-04, 1.9426e-10, 4.7910e-11,\n",
      "         4.2186e-01, 7.3091e-07, 4.9709e-01, 3.8984e-06],\n",
      "        [5.2968e-06, 3.3883e-04, 2.0266e-09, 2.2730e-10, 1.5966e-18, 1.7099e-08,\n",
      "         1.1848e-06, 2.8625e-10, 9.9965e-01, 9.1839e-08],\n",
      "        [1.3716e-01, 5.8638e-04, 2.4534e-03, 1.2594e-08, 1.8165e-13, 2.2511e-02,\n",
      "         1.2073e-05, 5.9274e-06, 8.3727e-01, 1.8026e-07],\n",
      "        [7.4925e-11, 1.0286e-09, 2.5679e-11, 4.5360e-13, 1.2649e-16, 6.6851e-10,\n",
      "         1.0000e+00, 1.0531e-11, 4.3618e-07, 8.3774e-12],\n",
      "        [4.2124e-04, 1.1613e-08, 5.2562e-09, 3.9379e-14, 1.0163e-17, 5.1138e-10,\n",
      "         3.2204e-07, 3.9373e-11, 9.9958e-01, 1.1025e-12],\n",
      "        [1.2749e-07, 3.8384e-10, 1.0249e-08, 3.2567e-09, 2.7406e-18, 2.0830e-07,\n",
      "         1.1042e-05, 2.3719e-11, 9.9999e-01, 4.4933e-11],\n",
      "        [2.4315e-06, 1.4290e-05, 8.6441e-12, 2.7615e-11, 1.9586e-14, 4.8783e-05,\n",
      "         1.5658e-07, 1.1332e-09, 9.9993e-01, 1.3966e-07],\n",
      "        [1.6946e-05, 2.3455e-12, 4.7712e-13, 3.1730e-16, 1.4842e-13, 5.4728e-04,\n",
      "         3.2716e-08, 4.8613e-08, 9.9944e-01, 1.2675e-08],\n",
      "        [8.7041e-08, 1.8996e-09, 1.0164e-10, 1.6686e-16, 8.3190e-20, 4.9586e-09,\n",
      "         1.9841e-12, 1.0597e-11, 1.0000e+00, 1.6194e-12],\n",
      "        [8.8039e-05, 2.4262e-09, 1.6732e-15, 4.8036e-15, 1.5153e-20, 3.3368e-08,\n",
      "         1.9889e-08, 8.9731e-14, 9.9991e-01, 3.6034e-11],\n",
      "        [6.5697e-06, 3.0620e-09, 1.7964e-10, 7.2788e-11, 8.7990e-20, 1.1789e-09,\n",
      "         8.6591e-03, 6.8036e-07, 9.9133e-01, 1.1593e-07],\n",
      "        [4.6058e-04, 5.6223e-08, 1.5291e-15, 3.8656e-09, 4.8351e-16, 1.4081e-07,\n",
      "         1.6036e-06, 3.6072e-08, 9.9954e-01, 1.6898e-10],\n",
      "        [1.0305e-02, 9.2188e-06, 3.8627e-08, 5.1114e-07, 5.1188e-13, 1.4057e-06,\n",
      "         8.2571e-03, 4.4625e-06, 9.8142e-01, 1.4446e-07],\n",
      "        [1.8666e-04, 1.0502e-07, 7.4989e-11, 2.3386e-11, 2.2356e-19, 3.4301e-10,\n",
      "         1.5480e-06, 1.0797e-10, 9.9981e-01, 2.0551e-06],\n",
      "        [7.9452e-03, 1.1897e-11, 5.8834e-14, 1.5435e-16, 5.1226e-19, 5.7234e-08,\n",
      "         9.4215e-12, 7.1237e-13, 9.9205e-01, 5.9921e-16],\n",
      "        [9.2743e-05, 3.3570e-11, 3.2179e-10, 1.5147e-14, 1.6847e-16, 7.0716e-08,\n",
      "         9.6496e-03, 1.7391e-14, 9.9026e-01, 6.2716e-07],\n",
      "        [2.6221e-06, 6.8604e-04, 1.0184e-06, 5.6888e-08, 6.0234e-11, 5.0390e-06,\n",
      "         1.1599e-08, 2.3446e-06, 9.9925e-01, 5.3088e-05],\n",
      "        [3.6674e-05, 1.1240e-07, 1.9062e-11, 1.2737e-10, 5.5759e-15, 6.9763e-12,\n",
      "         1.9727e-05, 8.2138e-11, 9.9994e-01, 5.2962e-08],\n",
      "        [8.2585e-01, 1.5636e-11, 2.9998e-16, 9.6677e-11, 1.8678e-14, 1.1488e-05,\n",
      "         1.1030e-02, 1.5667e-07, 1.6311e-01, 6.0818e-09],\n",
      "        [1.5573e-02, 7.1176e-10, 2.0630e-04, 1.4523e-11, 5.0231e-12, 3.6042e-08,\n",
      "         2.9205e-08, 6.5615e-08, 9.8422e-01, 8.0378e-12],\n",
      "        [1.1830e-04, 8.7943e-04, 5.4646e-07, 8.1540e-12, 1.0322e-14, 1.1848e-10,\n",
      "         4.3246e-01, 9.4971e-10, 5.4794e-01, 1.8606e-02],\n",
      "        [1.0501e-03, 4.3290e-10, 1.1081e-14, 2.7519e-15, 5.4074e-18, 2.0992e-09,\n",
      "         2.2740e-10, 1.1800e-11, 9.9895e-01, 6.1574e-13],\n",
      "        [4.3152e-01, 1.4231e-07, 1.2366e-06, 6.1919e-07, 9.8048e-16, 1.6414e-07,\n",
      "         3.6428e-04, 8.2160e-07, 5.6812e-01, 2.1466e-07],\n",
      "        [1.0154e-03, 1.2316e-04, 1.0259e-10, 6.2035e-10, 4.5520e-13, 5.5143e-11,\n",
      "         9.4224e-01, 4.4136e-11, 5.4829e-02, 1.7932e-03],\n",
      "        [2.5199e-07, 8.9214e-12, 1.8923e-09, 5.7166e-09, 7.3869e-18, 6.8201e-03,\n",
      "         5.9044e-02, 1.3731e-04, 9.3400e-01, 1.1781e-11],\n",
      "        [7.0881e-04, 5.2570e-10, 3.0287e-13, 1.9166e-12, 5.9279e-17, 6.9098e-07,\n",
      "         3.8445e-07, 3.8805e-09, 9.9929e-01, 1.1338e-11],\n",
      "        [8.0222e-06, 4.6035e-13, 1.0647e-08, 1.8459e-13, 4.3896e-17, 1.3089e-06,\n",
      "         2.5195e-04, 5.6041e-09, 9.9974e-01, 2.8488e-10],\n",
      "        [5.5792e-02, 3.9662e-10, 7.6050e-07, 7.0126e-13, 1.0064e-16, 2.0431e-08,\n",
      "         8.1359e-05, 9.3156e-09, 9.4412e-01, 3.8474e-06],\n",
      "        [1.7644e-01, 1.2165e-08, 8.7344e-11, 5.7204e-08, 6.4297e-15, 7.5171e-05,\n",
      "         1.7170e-05, 4.5857e-05, 8.2343e-01, 5.0277e-07],\n",
      "        [1.2591e-04, 3.3085e-11, 6.5093e-10, 1.8953e-18, 4.2485e-18, 4.3577e-04,\n",
      "         1.0838e-04, 1.1904e-14, 9.9933e-01, 9.9840e-11],\n",
      "        [8.4893e-01, 1.5165e-09, 3.9208e-08, 9.4157e-16, 3.9387e-14, 2.4255e-04,\n",
      "         5.5794e-05, 2.3912e-09, 1.5077e-01, 1.6364e-08],\n",
      "        [3.3805e-06, 2.8823e-06, 2.6783e-13, 4.5866e-09, 2.7015e-16, 1.8031e-06,\n",
      "         1.0323e-08, 2.5936e-10, 9.9999e-01, 2.3592e-07],\n",
      "        [2.3824e-07, 4.4141e-10, 4.8188e-14, 1.6260e-12, 1.1311e-14, 4.4945e-06,\n",
      "         1.4411e-04, 5.9885e-09, 9.9985e-01, 4.2042e-11],\n",
      "        [3.0109e-08, 2.9997e-14, 5.9972e-14, 4.5372e-19, 4.4485e-21, 5.2507e-12,\n",
      "         5.3607e-08, 1.0062e-14, 1.0000e+00, 2.3871e-13],\n",
      "        [3.0771e-04, 2.3327e-07, 5.8312e-12, 4.2121e-11, 7.3612e-18, 8.1056e-10,\n",
      "         1.1350e-07, 1.9878e-09, 9.9969e-01, 1.4273e-09],\n",
      "        [3.7730e-07, 3.0315e-08, 6.7085e-15, 7.8407e-10, 1.5374e-16, 1.2574e-09,\n",
      "         9.3663e-09, 3.3106e-11, 1.0000e+00, 1.9880e-12],\n",
      "        [2.2012e-08, 1.6986e-06, 3.4583e-09, 7.9088e-07, 4.0318e-16, 1.9561e-11,\n",
      "         2.3777e-06, 3.6666e-08, 9.9999e-01, 6.9061e-08],\n",
      "        [9.9935e-01, 6.3324e-04, 8.2161e-11, 2.3873e-09, 4.7596e-12, 7.7009e-11,\n",
      "         1.4952e-05, 6.9948e-10, 8.0795e-07, 2.5719e-10],\n",
      "        [5.8253e-05, 4.2000e-10, 5.6592e-09, 1.1148e-14, 5.6762e-15, 1.3093e-11,\n",
      "         9.8566e-01, 8.6786e-13, 1.4278e-02, 7.5467e-07],\n",
      "        [2.3326e-05, 1.1921e-07, 1.3772e-08, 1.9016e-08, 1.4340e-14, 1.7859e-06,\n",
      "         6.0701e-10, 2.2884e-06, 9.9997e-01, 8.7106e-10],\n",
      "        [5.9870e-06, 5.4811e-11, 1.5960e-08, 3.1314e-14, 1.3123e-15, 4.1355e-10,\n",
      "         7.9483e-03, 5.3710e-12, 9.9205e-01, 4.5872e-09],\n",
      "        [6.7225e-07, 2.0421e-04, 6.0755e-05, 8.4269e-09, 1.3183e-13, 2.2257e-09,\n",
      "         5.8356e-05, 1.4827e-08, 9.9968e-01, 1.5204e-07],\n",
      "        [9.9759e-01, 3.5877e-06, 2.6689e-13, 7.1784e-11, 2.4534e-16, 2.2425e-03,\n",
      "         1.5793e-04, 1.7477e-09, 1.8008e-06, 5.7792e-07],\n",
      "        [4.4810e-10, 1.9682e-11, 5.2354e-16, 3.3277e-11, 6.6955e-19, 1.6399e-08,\n",
      "         1.2389e-10, 2.2694e-13, 1.0000e+00, 2.4586e-13],\n",
      "        [1.5573e-04, 1.3948e-10, 9.5949e-15, 1.2873e-16, 2.4524e-20, 1.3184e-10,\n",
      "         1.4803e-10, 5.3726e-14, 9.9984e-01, 1.2899e-14],\n",
      "        [2.3694e-04, 2.7627e-07, 6.7802e-10, 2.3748e-11, 4.5184e-15, 3.3275e-09,\n",
      "         9.3079e-04, 1.0661e-08, 9.9883e-01, 3.4856e-08],\n",
      "        [8.3136e-01, 1.8169e-06, 3.6762e-11, 9.5051e-09, 5.6575e-14, 1.0127e-03,\n",
      "         1.4060e-04, 1.1212e-03, 1.6636e-01, 9.1702e-07],\n",
      "        [1.0917e-01, 2.1814e-02, 4.3572e-07, 1.2125e-10, 8.6439e-14, 1.3045e-11,\n",
      "         8.6639e-01, 1.7684e-13, 2.6179e-03, 1.2952e-06],\n",
      "        [7.5164e-10, 3.5076e-10, 1.1119e-08, 2.2046e-14, 7.2853e-17, 9.1263e-11,\n",
      "         1.1319e-06, 1.4263e-11, 1.0000e+00, 8.1152e-11]])\n",
      "torch.Size([64, 10])\n",
      "tensor([1.0000, 1.0000, 1.0000, 1.0000, 1.0000, 1.0000, 1.0000, 1.0000, 1.0000,\n",
      "        1.0000, 1.0000, 1.0000, 1.0000, 1.0000, 1.0000, 1.0000, 1.0000, 1.0000,\n",
      "        1.0000, 1.0000, 1.0000, 1.0000, 1.0000, 1.0000, 1.0000, 1.0000, 1.0000,\n",
      "        1.0000, 1.0000, 1.0000, 1.0000, 1.0000, 1.0000, 1.0000, 1.0000, 1.0000,\n",
      "        1.0000, 1.0000, 1.0000, 1.0000, 1.0000, 1.0000, 1.0000, 1.0000, 1.0000,\n",
      "        1.0000, 1.0000, 1.0000, 1.0000, 1.0000, 1.0000, 1.0000, 1.0000, 1.0000,\n",
      "        1.0000, 1.0000, 1.0000, 1.0000, 1.0000, 1.0000, 1.0000, 1.0000, 1.0000,\n",
      "        1.0000])\n"
     ]
    }
   ],
   "source": [
    "def softmax(x):\n",
    "    ## TODO: Implement the softmax function here\n",
    "    return torch.exp(x) / torch.sum(torch.exp(x), dim=1).view(-1, 1)\n",
    "\n",
    "# Here, out should be the output of the network in the previous excercise with shape (64,10)\n",
    "probabilities = softmax(out)\n",
    "print(probabilities)\n",
    "# Does it have the right shape? Should be (64, 10)\n",
    "print(probabilities.shape)\n",
    "# Does it sum to 1?\n",
    "print(probabilities.sum(dim=1))"
   ]
  },
  {
   "cell_type": "markdown",
   "metadata": {},
   "source": [
    "## Building networks with PyTorch\n",
    "\n",
    "PyTorch provides a module `nn` that makes building networks much simpler. Here I'll show you how to build the same one as above with 784 inputs, 256 hidden units, 10 output units and a softmax output."
   ]
  },
  {
   "cell_type": "code",
   "execution_count": 10,
   "metadata": {},
   "outputs": [],
   "source": [
    "from torch import nn"
   ]
  },
  {
   "cell_type": "code",
   "execution_count": 11,
   "metadata": {},
   "outputs": [],
   "source": [
    "class Network(nn.Module):\n",
    "    def __init__(self):\n",
    "        super().__init__()\n",
    "        \n",
    "        # Inputs to hidden layer linear transformation\n",
    "        self.hidden = nn.Linear(784, 256)\n",
    "        # Output layer, 10 units - one for each digit\n",
    "        self.output = nn.Linear(256, 10)\n",
    "        \n",
    "        # Define sigmoid activation and softmax output \n",
    "        self.sigmoid = nn.Sigmoid()\n",
    "        self.softmax = nn.Softmax(dim=1)\n",
    "        \n",
    "    def forward(self, x):\n",
    "        # Pass the input tensor through each of our operations\n",
    "        x = self.hidden(x)\n",
    "        x = self.sigmoid(x)\n",
    "        x = self.output(x)\n",
    "        x = self.softmax(x)\n",
    "        \n",
    "        return x"
   ]
  },
  {
   "cell_type": "markdown",
   "metadata": {},
   "source": [
    "Let's go through this bit by bit.\n",
    "\n",
    "```python\n",
    "class Network(nn.Module):\n",
    "```\n",
    "\n",
    "Here we're inheriting from `nn.Module`. Combined with `super().__init__()` this creates a class that tracks the architecture and provides a lot of useful methods and attributes. It is mandatory to inherit from `nn.Module` when you're creating a class for your network. The name of the class itself can be anything.\n",
    "\n",
    "```python\n",
    "self.hidden = nn.Linear(784, 256)\n",
    "```\n",
    "\n",
    "This line creates a module for a linear transformation, $x\\mathbf{W} + b$, with 784 inputs and 256 outputs and assigns it to `self.hidden`. The module automatically creates the weight and bias tensors which we'll use in the `forward` method. You can access the weight and bias tensors once the network once it's create at `net.hidden.weight` and `net.hidden.bias`.\n",
    "\n",
    "```python\n",
    "self.output = nn.Linear(256, 10)\n",
    "```\n",
    "\n",
    "Similarly, this creates another linear transformation with 256 inputs and 10 outputs.\n",
    "\n",
    "```python\n",
    "self.sigmoid = nn.Sigmoid()\n",
    "self.softmax = nn.Softmax(dim=1)\n",
    "```\n",
    "\n",
    "Here I defined operations for the sigmoid activation and softmax output. Setting `dim=1` in `nn.Softmax(dim=1)` calculates softmax across the columns.\n",
    "\n",
    "```python\n",
    "def forward(self, x):\n",
    "```\n",
    "\n",
    "PyTorch networks created with `nn.Module` must have a `forward` method defined. It takes in a tensor `x` and passes it through the operations you defined in the `__init__` method.\n",
    "\n",
    "```python\n",
    "x = self.hidden(x)\n",
    "x = self.sigmoid(x)\n",
    "x = self.output(x)\n",
    "x = self.softmax(x)\n",
    "```\n",
    "\n",
    "Here the input tensor `x` is passed through each operation a reassigned to `x`. We can see that the input tensor goes through the hidden layer, then a sigmoid function, then the output layer, and finally the softmax function. It doesn't matter what you name the variables here, as long as the inputs and outputs of the operations match the network architecture you want to build. The order in which you define things in the `__init__` method doesn't matter, but you'll need to sequence the operations correctly in the `forward` method.\n",
    "\n",
    "Now we can create a `Network` object."
   ]
  },
  {
   "cell_type": "code",
   "execution_count": 12,
   "metadata": {},
   "outputs": [
    {
     "data": {
      "text/plain": [
       "Network(\n",
       "  (hidden): Linear(in_features=784, out_features=256, bias=True)\n",
       "  (output): Linear(in_features=256, out_features=10, bias=True)\n",
       "  (sigmoid): Sigmoid()\n",
       "  (softmax): Softmax()\n",
       ")"
      ]
     },
     "execution_count": 12,
     "metadata": {},
     "output_type": "execute_result"
    }
   ],
   "source": [
    "# Create the network and look at it's text representation\n",
    "model = Network()\n",
    "model"
   ]
  },
  {
   "cell_type": "markdown",
   "metadata": {},
   "source": [
    "You can define the network somewhat more concisely and clearly using the `torch.nn.functional` module. This is the most common way you'll see networks defined as many operations are simple element-wise functions. We normally import this module as `F`, `import torch.nn.functional as F`."
   ]
  },
  {
   "cell_type": "code",
   "execution_count": 13,
   "metadata": {},
   "outputs": [],
   "source": [
    "import torch.nn.functional as F\n",
    "\n",
    "class Network(nn.Module):\n",
    "    def __init__(self):\n",
    "        super().__init__()\n",
    "        # Inputs to hidden layer linear transformation\n",
    "        self.hidden = nn.Linear(784, 256)\n",
    "        # Output layer, 10 units - one for each digit\n",
    "        self.output = nn.Linear(256, 10)\n",
    "        \n",
    "    def forward(self, x):\n",
    "        # Hidden layer with sigmoid activation\n",
    "        x = F.sigmoid(self.hidden(x))\n",
    "        # Output layer with softmax activation\n",
    "        x = F.softmax(self.output(x), dim=1)\n",
    "        \n",
    "        return x"
   ]
  },
  {
   "cell_type": "markdown",
   "metadata": {},
   "source": [
    "### Activation functions\n",
    "\n",
    "So far we've only been looking at the softmax activation, but in general any function can be used as an activation function. The only requirement is that for a network to approximate a non-linear function, the activation functions must be non-linear. Here are a few more examples of common activation functions: Tanh (hyperbolic tangent), and ReLU (rectified linear unit).\n",
    "\n",
    "<img src=\"assets/activation.png\" width=700px>\n",
    "\n",
    "In practice, the ReLU function is used almost exclusively as the activation function for hidden layers."
   ]
  },
  {
   "cell_type": "markdown",
   "metadata": {},
   "source": [
    "### Your Turn to Build a Network\n",
    "\n",
    "<img src=\"assets/mlp_mnist.png\" width=600px>\n",
    "\n",
    "> **Exercise:** Create a network with 784 input units, a hidden layer with 128 units and a ReLU activation, then a hidden layer with 64 units and a ReLU activation, and finally an output layer with a softmax activation as shown above. You can use a ReLU activation with the `nn.ReLU` module or `F.relu` function."
   ]
  },
  {
   "cell_type": "code",
   "execution_count": 14,
   "metadata": {
    "scrolled": true
   },
   "outputs": [],
   "source": [
    "## Your solution here\n",
    "class NeuralNetwork(nn.Module):\n",
    "    def __init__(self):\n",
    "        super().__init__()\n",
    "        self.hidden_1 = nn.Linear(784, 256)\n",
    "        self.hidden_2 = nn.Linear(256, 64)\n",
    "        self.output = nn.Linear(64, 10)\n",
    "        \n",
    "    def forward(self, x):\n",
    "        # activation using relu for the first hidden layers\n",
    "        x = F.relu(self.hidden_1(x))\n",
    "        # activation for hidden layer 2\n",
    "        x = F.relu(self.hidden_2(x))\n",
    "        # softmax to the output\n",
    "        x = F.softmax(self.output(x), dim=1)\n",
    "        \n",
    "        return x\n"
   ]
  },
  {
   "cell_type": "code",
   "execution_count": 15,
   "metadata": {},
   "outputs": [
    {
     "data": {
      "text/plain": [
       "NeuralNetwork(\n",
       "  (hidden_1): Linear(in_features=784, out_features=256, bias=True)\n",
       "  (hidden_2): Linear(in_features=256, out_features=64, bias=True)\n",
       "  (output): Linear(in_features=64, out_features=10, bias=True)\n",
       ")"
      ]
     },
     "execution_count": 15,
     "metadata": {},
     "output_type": "execute_result"
    }
   ],
   "source": [
    "model = NeuralNetwork()\n",
    "model"
   ]
  },
  {
   "cell_type": "markdown",
   "metadata": {},
   "source": [
    "### Initializing weights and biases\n",
    "\n",
    "The weights and such are automatically initialized for you, but it's possible to customize how they are initialized. The weights and biases are tensors attached to the layer you defined, you can get them with `model.fc1.weight` for instance."
   ]
  },
  {
   "cell_type": "code",
   "execution_count": 16,
   "metadata": {},
   "outputs": [
    {
     "name": "stdout",
     "output_type": "stream",
     "text": [
      "Parameter containing:\n",
      "tensor([[ 0.0150, -0.0300,  0.0072,  ..., -0.0230,  0.0032,  0.0271],\n",
      "        [ 0.0310, -0.0245, -0.0218,  ..., -0.0243, -0.0171,  0.0152],\n",
      "        [ 0.0178,  0.0106, -0.0116,  ..., -0.0225, -0.0199, -0.0062],\n",
      "        ...,\n",
      "        [ 0.0124, -0.0238,  0.0347,  ..., -0.0001,  0.0212,  0.0205],\n",
      "        [-0.0060,  0.0062, -0.0003,  ..., -0.0315, -0.0215, -0.0295],\n",
      "        [-0.0047, -0.0236, -0.0083,  ...,  0.0006,  0.0164, -0.0310]],\n",
      "       requires_grad=True)\n",
      "Parameter containing:\n",
      "tensor([ 0.0039, -0.0193, -0.0157,  0.0007, -0.0066, -0.0285, -0.0144, -0.0317,\n",
      "         0.0286, -0.0120,  0.0216, -0.0255,  0.0046,  0.0265,  0.0055, -0.0312,\n",
      "        -0.0031, -0.0180, -0.0344,  0.0177,  0.0084,  0.0297,  0.0114,  0.0342,\n",
      "        -0.0286, -0.0207, -0.0186, -0.0154,  0.0143,  0.0165,  0.0270,  0.0338,\n",
      "         0.0077,  0.0074,  0.0303,  0.0283,  0.0097, -0.0266, -0.0060, -0.0218,\n",
      "        -0.0074,  0.0157, -0.0153,  0.0234, -0.0034,  0.0039,  0.0244, -0.0226,\n",
      "        -0.0147, -0.0332, -0.0165,  0.0122, -0.0044, -0.0139,  0.0067,  0.0351,\n",
      "        -0.0077, -0.0060,  0.0335, -0.0116, -0.0169, -0.0205,  0.0320, -0.0246,\n",
      "         0.0315,  0.0132,  0.0306, -0.0096,  0.0168, -0.0345, -0.0209,  0.0093,\n",
      "         0.0356,  0.0184, -0.0236,  0.0232, -0.0165, -0.0099,  0.0054,  0.0207,\n",
      "        -0.0333, -0.0217,  0.0061, -0.0234,  0.0180,  0.0130, -0.0122,  0.0339,\n",
      "         0.0258, -0.0293,  0.0051,  0.0177, -0.0160,  0.0082, -0.0145,  0.0137,\n",
      "         0.0293, -0.0131,  0.0171,  0.0016,  0.0223,  0.0133,  0.0059, -0.0108,\n",
      "        -0.0040, -0.0291,  0.0344, -0.0203,  0.0121, -0.0078,  0.0044,  0.0328,\n",
      "        -0.0027,  0.0305, -0.0264, -0.0022, -0.0271,  0.0021,  0.0162,  0.0093,\n",
      "        -0.0160, -0.0119,  0.0140, -0.0351, -0.0014, -0.0168, -0.0229, -0.0357,\n",
      "        -0.0086,  0.0206,  0.0088,  0.0193, -0.0173,  0.0356,  0.0307,  0.0324,\n",
      "         0.0235, -0.0188, -0.0301, -0.0214,  0.0345,  0.0246, -0.0173, -0.0057,\n",
      "        -0.0308,  0.0244,  0.0333, -0.0041,  0.0175, -0.0079, -0.0106,  0.0101,\n",
      "         0.0247,  0.0036,  0.0345, -0.0197,  0.0216, -0.0303,  0.0094,  0.0257,\n",
      "        -0.0026,  0.0289, -0.0026,  0.0031, -0.0016,  0.0023,  0.0347, -0.0333,\n",
      "        -0.0161, -0.0064, -0.0249, -0.0196,  0.0072,  0.0343,  0.0015, -0.0077,\n",
      "        -0.0305,  0.0356, -0.0075, -0.0282, -0.0325,  0.0315, -0.0045,  0.0067,\n",
      "        -0.0120,  0.0148,  0.0001, -0.0166,  0.0093, -0.0303, -0.0350,  0.0185,\n",
      "        -0.0037,  0.0269, -0.0268,  0.0176,  0.0158,  0.0114,  0.0213, -0.0100,\n",
      "         0.0041, -0.0101,  0.0043,  0.0120, -0.0109,  0.0102, -0.0288, -0.0326,\n",
      "        -0.0114,  0.0227,  0.0276, -0.0294, -0.0164, -0.0175,  0.0216,  0.0259,\n",
      "        -0.0015, -0.0111,  0.0318, -0.0347,  0.0220,  0.0193, -0.0046,  0.0297,\n",
      "        -0.0164, -0.0145,  0.0288, -0.0342, -0.0132,  0.0273, -0.0033,  0.0145,\n",
      "        -0.0309, -0.0342,  0.0288,  0.0322,  0.0088,  0.0072, -0.0028,  0.0230,\n",
      "         0.0248,  0.0093,  0.0320, -0.0007, -0.0193, -0.0175, -0.0088, -0.0338,\n",
      "        -0.0296, -0.0316,  0.0015, -0.0344, -0.0024, -0.0037, -0.0132,  0.0106],\n",
      "       requires_grad=True)\n"
     ]
    }
   ],
   "source": [
    "print(model.hidden_1.weight)\n",
    "print(model.hidden_1.bias)"
   ]
  },
  {
   "cell_type": "markdown",
   "metadata": {},
   "source": [
    "For custom initialization, we want to modify these tensors in place. These are actually autograd *Variables*, so we need to get back the actual tensors with `model.fc1.weight.data`. Once we have the tensors, we can fill them with zeros (for biases) or random normal values."
   ]
  },
  {
   "cell_type": "code",
   "execution_count": 17,
   "metadata": {},
   "outputs": [
    {
     "data": {
      "text/plain": [
       "tensor([0., 0., 0., 0., 0., 0., 0., 0., 0., 0., 0., 0., 0., 0., 0., 0., 0., 0.,\n",
       "        0., 0., 0., 0., 0., 0., 0., 0., 0., 0., 0., 0., 0., 0., 0., 0., 0., 0.,\n",
       "        0., 0., 0., 0., 0., 0., 0., 0., 0., 0., 0., 0., 0., 0., 0., 0., 0., 0.,\n",
       "        0., 0., 0., 0., 0., 0., 0., 0., 0., 0., 0., 0., 0., 0., 0., 0., 0., 0.,\n",
       "        0., 0., 0., 0., 0., 0., 0., 0., 0., 0., 0., 0., 0., 0., 0., 0., 0., 0.,\n",
       "        0., 0., 0., 0., 0., 0., 0., 0., 0., 0., 0., 0., 0., 0., 0., 0., 0., 0.,\n",
       "        0., 0., 0., 0., 0., 0., 0., 0., 0., 0., 0., 0., 0., 0., 0., 0., 0., 0.,\n",
       "        0., 0., 0., 0., 0., 0., 0., 0., 0., 0., 0., 0., 0., 0., 0., 0., 0., 0.,\n",
       "        0., 0., 0., 0., 0., 0., 0., 0., 0., 0., 0., 0., 0., 0., 0., 0., 0., 0.,\n",
       "        0., 0., 0., 0., 0., 0., 0., 0., 0., 0., 0., 0., 0., 0., 0., 0., 0., 0.,\n",
       "        0., 0., 0., 0., 0., 0., 0., 0., 0., 0., 0., 0., 0., 0., 0., 0., 0., 0.,\n",
       "        0., 0., 0., 0., 0., 0., 0., 0., 0., 0., 0., 0., 0., 0., 0., 0., 0., 0.,\n",
       "        0., 0., 0., 0., 0., 0., 0., 0., 0., 0., 0., 0., 0., 0., 0., 0., 0., 0.,\n",
       "        0., 0., 0., 0., 0., 0., 0., 0., 0., 0., 0., 0., 0., 0., 0., 0., 0., 0.,\n",
       "        0., 0., 0., 0.])"
      ]
     },
     "execution_count": 17,
     "metadata": {},
     "output_type": "execute_result"
    }
   ],
   "source": [
    "# Set biases to all zeros\n",
    "model.hidden_1.bias.data.fill_(0)"
   ]
  },
  {
   "cell_type": "code",
   "execution_count": 18,
   "metadata": {},
   "outputs": [
    {
     "data": {
      "text/plain": [
       "tensor([[ 0.0179, -0.0018,  0.0080,  ...,  0.0127,  0.0068, -0.0086],\n",
       "        [ 0.0026, -0.0007, -0.0181,  ...,  0.0028,  0.0094, -0.0136],\n",
       "        [-0.0009,  0.0085,  0.0028,  ...,  0.0009, -0.0202,  0.0076],\n",
       "        ...,\n",
       "        [ 0.0005,  0.0058, -0.0047,  ...,  0.0111,  0.0134, -0.0025],\n",
       "        [-0.0020, -0.0004,  0.0144,  ...,  0.0112, -0.0092, -0.0109],\n",
       "        [-0.0097,  0.0076,  0.0088,  ..., -0.0020, -0.0302, -0.0052]])"
      ]
     },
     "execution_count": 18,
     "metadata": {},
     "output_type": "execute_result"
    }
   ],
   "source": [
    "# sample from random normal with standard dev = 0.01\n",
    "model.hidden_1.weight.data.normal_(std=0.01)"
   ]
  },
  {
   "cell_type": "markdown",
   "metadata": {},
   "source": [
    "### Forward pass\n",
    "\n",
    "Now that we have a network, let's see what happens when we pass in an image."
   ]
  },
  {
   "cell_type": "code",
   "execution_count": 19,
   "metadata": {},
   "outputs": [
    {
     "data": {
      "image/png": "[encoded data removed]",
      "text/plain": [
       "<Figure size 432x648 with 2 Axes>"
      ]
     },
     "metadata": {
      "image/png": {
       "height": 226,
       "width": 423
      },
      "needs_background": "light"
     },
     "output_type": "display_data"
    }
   ],
   "source": [
    "# Grab some data \n",
    "dataiter = iter(trainloader)\n",
    "images, labels = dataiter.next()\n",
    "\n",
    "# Resize images into a 1D vector, new shape is (batch size, color channels, image pixels) \n",
    "images.resize_(64, 1, 784)\n",
    "# or images.resize_(images.shape[0], 1, 784) to automatically get batch size\n",
    "\n",
    "# Forward pass through the network\n",
    "img_idx = 0\n",
    "ps = model.forward(images[img_idx,:])\n",
    "\n",
    "img = images[img_idx]\n",
    "helper.view_classify(img.view(1, 28, 28), ps)"
   ]
  },
  {
   "cell_type": "markdown",
   "metadata": {},
   "source": [
    "As you can see above, our network has basically no idea what this digit is. It's because we haven't trained it yet, all the weights are random!\n",
    "\n",
    "### Using `nn.Sequential`\n",
    "\n",
    "PyTorch provides a convenient way to build networks like this where a tensor is passed sequentially through operations, `nn.Sequential` ([documentation](https://pytorch.org/docs/master/nn.html#torch.nn.Sequential)). Using this to build the equivalent network:"
   ]
  },
  {
   "cell_type": "code",
   "execution_count": 20,
   "metadata": {},
   "outputs": [
    {
     "name": "stdout",
     "output_type": "stream",
     "text": [
      "Sequential(\n",
      "  (0): Linear(in_features=784, out_features=128, bias=True)\n",
      "  (1): ReLU()\n",
      "  (2): Linear(in_features=128, out_features=64, bias=True)\n",
      "  (3): ReLU()\n",
      "  (4): Linear(in_features=64, out_features=10, bias=True)\n",
      "  (5): Softmax()\n",
      ")\n"
     ]
    },
    {
     "data": {
      "image/png": "[encoded data removed]",
      "text/plain": [
       "<Figure size 432x648 with 2 Axes>"
      ]
     },
     "metadata": {
      "image/png": {
       "height": 226,
       "width": 423
      },
      "needs_background": "light"
     },
     "output_type": "display_data"
    }
   ],
   "source": [
    "# Hyperparameters for our network\n",
    "input_size = 784\n",
    "hidden_sizes = [128, 64]\n",
    "output_size = 10\n",
    "\n",
    "# Build a feed-forward network\n",
    "model = nn.Sequential(nn.Linear(input_size, hidden_sizes[0]),\n",
    "                      nn.ReLU(),\n",
    "                      nn.Linear(hidden_sizes[0], hidden_sizes[1]),\n",
    "                      nn.ReLU(),\n",
    "                      nn.Linear(hidden_sizes[1], output_size),\n",
    "                      nn.Softmax(dim=1))\n",
    "print(model)\n",
    "\n",
    "# Forward pass through the network and display output\n",
    "images, labels = next(iter(trainloader))\n",
    "images.resize_(images.shape[0], 1, 784)\n",
    "ps = model.forward(images[0,:])\n",
    "helper.view_classify(images[0].view(1, 28, 28), ps)"
   ]
  },
  {
   "cell_type": "markdown",
   "metadata": {},
   "source": [
    "Here our model is the same as before: 784 input units, a hidden layer with 128 units, ReLU activation, 64 unit hidden layer, another ReLU, then the output layer with 10 units, and the softmax output.\n",
    "\n",
    "The operations are availble by passing in the appropriate index. For example, if you want to get first Linear operation and look at the weights, you'd use `model[0]`."
   ]
  },
  {
   "cell_type": "code",
   "execution_count": 21,
   "metadata": {},
   "outputs": [
    {
     "name": "stdout",
     "output_type": "stream",
     "text": [
      "Linear(in_features=784, out_features=128, bias=True)\n"
     ]
    },
    {
     "data": {
      "text/plain": [
       "Parameter containing:\n",
       "tensor([[ 0.0263, -0.0107, -0.0044,  ..., -0.0224,  0.0200,  0.0291],\n",
       "        [ 0.0132, -0.0213, -0.0250,  ...,  0.0095,  0.0049, -0.0317],\n",
       "        [ 0.0333, -0.0120,  0.0126,  ..., -0.0170,  0.0140, -0.0086],\n",
       "        ...,\n",
       "        [ 0.0095, -0.0331,  0.0101,  ..., -0.0128,  0.0314,  0.0083],\n",
       "        [ 0.0336, -0.0291, -0.0298,  ..., -0.0317,  0.0134, -0.0204],\n",
       "        [ 0.0055,  0.0289, -0.0238,  ..., -0.0328, -0.0080,  0.0327]],\n",
       "       requires_grad=True)"
      ]
     },
     "execution_count": 21,
     "metadata": {},
     "output_type": "execute_result"
    }
   ],
   "source": [
    "print(model[0])\n",
    "model[0].weight"
   ]
  },
  {
   "cell_type": "markdown",
   "metadata": {},
   "source": [
    "You can also pass in an `OrderedDict` to name the individual layers and operations, instead of using incremental integers. Note that dictionary keys must be unique, so _each operation must have a different name_."
   ]
  },
  {
   "cell_type": "code",
   "execution_count": 22,
   "metadata": {},
   "outputs": [
    {
     "data": {
      "text/plain": [
       "Sequential(\n",
       "  (fc1): Linear(in_features=784, out_features=128, bias=True)\n",
       "  (relu1): ReLU()\n",
       "  (fc2): Linear(in_features=128, out_features=64, bias=True)\n",
       "  (relu2): ReLU()\n",
       "  (output): Linear(in_features=64, out_features=10, bias=True)\n",
       "  (softmax): Softmax()\n",
       ")"
      ]
     },
     "execution_count": 22,
     "metadata": {},
     "output_type": "execute_result"
    }
   ],
   "source": [
    "from collections import OrderedDict\n",
    "model = nn.Sequential(OrderedDict([\n",
    "                      ('fc1', nn.Linear(input_size, hidden_sizes[0])),\n",
    "                      ('relu1', nn.ReLU()),\n",
    "                      ('fc2', nn.Linear(hidden_sizes[0], hidden_sizes[1])),\n",
    "                      ('relu2', nn.ReLU()),\n",
    "                      ('output', nn.Linear(hidden_sizes[1], output_size)),\n",
    "                      ('softmax', nn.Softmax(dim=1))]))\n",
    "model"
   ]
  },
  {
   "cell_type": "markdown",
   "metadata": {},
   "source": [
    "Now you can access layers either by integer or the name"
   ]
  },
  {
   "cell_type": "code",
   "execution_count": 23,
   "metadata": {},
   "outputs": [
    {
     "name": "stdout",
     "output_type": "stream",
     "text": [
      "Linear(in_features=784, out_features=128, bias=True)\n",
      "Linear(in_features=784, out_features=128, bias=True)\n"
     ]
    }
   ],
   "source": [
    "print(model[0])\n",
    "print(model.fc1)"
   ]
  },
  {
   "cell_type": "markdown",
   "metadata": {},
   "source": [
    "In the next notebook, we'll see how we can train a neural network to accuractly predict the numbers appearing in the MNIST images."
   ]
  }
 ],
 "metadata": {
  "kernelspec": {
   "display_name": "udacity",
   "language": "python",
   "name": "udacity"
  },
  "language_info": {
   "codemirror_mode": {
    "name": "ipython",
    "version": 3
   },
   "file_extension": ".py",
   "mimetype": "text/x-python",
   "name": "python",
   "nbconvert_exporter": "python",
   "pygments_lexer": "ipython3",
   "version": "3.6.6"
  }
 },
 "nbformat": 4,
 "nbformat_minor": 2
}
